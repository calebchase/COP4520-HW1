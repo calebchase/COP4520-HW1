{
  "cells": [
    {
      "cell_type": "markdown",
      "metadata": {
        "id": "view-in-github",
        "colab_type": "text"
      },
      "source": [
        "<a href=\"https://colab.research.google.com/github/calebchase/COP4520-HW1/blob/main/Homework_02.ipynb\" target=\"_parent\"><img src=\"https://colab.research.google.com/assets/colab-badge.svg\" alt=\"Open In Colab\"/></a>"
      ]
    },
    {
      "cell_type": "code",
      "source": [
        "# Name: Caleb Chase\n",
        "# NID: ca972889\n",
        "# Resources used:\n",
        "#   - Class notes and examples\n",
        "#   - Online tutorials for matplotlib and python"
      ],
      "metadata": {
        "id": "E6eJHPWrWQ-R"
      },
      "execution_count": 1,
      "outputs": []
    },
    {
      "cell_type": "markdown",
      "metadata": {
        "id": "JSgO0QCpwYSJ"
      },
      "source": [
        "# Logistic Regression Homework\n",
        "\n",
        "This is the 2nd assignment for CAP 4630 and we will implement logistic regression and apply it to two\n",
        "different datasets. \\\n",
        "You will use **\"Tasks\"** and **\"Hints\"** to finish the work. **(Total 100 Points)** \\\n",
        "You are **not** allowed to use Machine Learning libaries such as Scikit-learn and Keras.\n",
        "\n",
        "**Task Overview:**\n",
        "- Logistic Regression "
      ]
    },
    {
      "cell_type": "markdown",
      "metadata": {
        "id": "eSjbK7pCwYSL"
      },
      "source": [
        "## 1 - Logistic Regression ##\n",
        "### 1.1 Packages\n",
        "\n",
        "Import useful packages for scientific computing and data processing. \n",
        "\n",
        "**Tasks:**\n",
        "1. Import numpy and rename it to np.\n",
        "2. Import pandas and rename it to pd.\n",
        "3. Import the pyplot function in the libraray of matplotlib and rename it to plt.\n",
        "\n",
        "References:\n",
        "- [numpy](www.numpy.org) is the fundamental package for scientific computing with Python.\n",
        "- [matplotlib](http://matplotlib.org) is a famous library to plot graphs in Python.\n",
        "\n",
        "**Attention:**\n",
        "1. After this renaming, you will use the new name to call functions. For example, **numpy** will become **np** in the following sections."
      ]
    },
    {
      "cell_type": "code",
      "execution_count": 2,
      "metadata": {
        "colab": {
          "base_uri": "https://localhost:8080/"
        },
        "id": "WZZlsWAYwYSM",
        "outputId": "60dc1e3e-a3b4-4d08-9a4d-1c44f60fb833"
      },
      "outputs": [
        {
          "output_type": "stream",
          "name": "stdout",
          "text": [
            "Mounted at /content/gdrive/\n",
            "/content/gdrive/MyDrive/colab\n"
          ]
        }
      ],
      "source": [
        "# Import and rename libraries here\n",
        "import numpy as np\n",
        "import pandas as pd\n",
        "import matplotlib.pyplot as plt\n",
        "\n",
        "from google.colab import drive\n",
        "drive.mount('/content/gdrive/', force_remount=True)\n",
        "\n",
        "# changes the current dir to my google drive folder 'colab'\n",
        "%cd gdrive/MyDrive/colab"
      ]
    },
    {
      "cell_type": "markdown",
      "metadata": {
        "collapsed": true,
        "id": "eI-uM1O7wYSN"
      },
      "source": [
        "### 1.2 - Data Preparation ##\n",
        "\n",
        "Prepare the data for regression task. **(20 Points)**\n",
        "\n",
        "**Tasks:**\n",
        "1. Load data for logistic regression.\n",
        "2. **Generate the SCATTER PLOT of the data**.\n",
        "\n",
        "**Hints:**\n",
        "1. The data file is \"data_logistic.csv\", which are exam scores for students.\n",
        "2. The data is organized by column: x1 (exam 1 score), x2 (exam 2 score), and label y (pass 1 or fail 0).\n",
        "3. Please use different colors for postive(label=1) and negative(label=0) data.\n",
        "4. An example of scatter plots is shown below.\n",
        "\n",
        "![](https://drive.google.com/uc?export=view&id=1CPv5s4W8SkUMa_sXCIz-NejSnFj-e1IH)"
      ]
    },
    {
      "cell_type": "code",
      "execution_count": 3,
      "metadata": {
        "colab": {
          "base_uri": "https://localhost:8080/",
          "height": 279
        },
        "id": "Xyz-KB5bwYSN",
        "outputId": "cb40b925-8dc4-4e89-fe35-d09c9a092366"
      },
      "outputs": [
        {
          "output_type": "display_data",
          "data": {
            "text/plain": [
              "<Figure size 432x288 with 1 Axes>"
            ],
            "image/png": "[encoded data removed]"
          },
          "metadata": {
            "needs_background": "light"
          }
        }
      ],
      "source": [
        "# Preprocess input data and generate plots\n",
        "# Coding here\n",
        "df = pd.read_csv(\"./data_logistic.csv\", header=0)\n",
        "\n",
        "P = df.loc[df['label'] == 0]\n",
        "N = df.loc[df['label'] == 1]\n",
        "\n",
        "plt.scatter(N['x1'], N['x2'], color=\"black\", marker='+')\n",
        "plt.scatter(P['x1'], P['x2'], color=\"green\")\n",
        "\n",
        "plt.xlabel('x1')\n",
        "plt.ylabel('x2')\n",
        "plt.legend(['Positive', 'Negative'])\n",
        "\n",
        "plt.show()"
      ]
    },
    {
      "cell_type": "markdown",
      "metadata": {
        "id": "p0qc78oiwYSO"
      },
      "source": [
        "### 1.3 - Sigmoid function ##\n",
        "\n",
        "\n",
        "Implement sigmoid function so it can be called by the rest of your program. **(20 Points)**\n",
        "\n",
        "**Tasks:**\n",
        "1. Implement the sigmoid function (**def sigmoid(z):**). \n",
        "2. Test the sigmoid function by function **plotting** with test data (X, Y) where Y = sigmoid(X). \n",
        "\n",
        "**Hints:**  \n",
        "1. Given the class material, sigmoid function is defined as:\n",
        "$g(z) = \\frac{1}{1+e^{-z}}$.\n",
        "2. You may consider X = np.linspace(-5, 5, 1000) to plot the curve.\n",
        "3. Plot Y against X.\n",
        "4. An example of plot for validation is shown below:\n",
        "\n",
        "![](https://drive.google.com/uc?export=view&id=18j5oHdw78uVm2WwHsdIb4hwhpXDxR37S)"
      ]
    },
    {
      "cell_type": "code",
      "execution_count": 4,
      "metadata": {
        "id": "HxX1OCMjwYSP"
      },
      "outputs": [],
      "source": [
        "# Implement sigmoid fuction here\n",
        "def sigmoid(z):\n",
        "  return 1 / (1 + np.exp(-z))"
      ]
    },
    {
      "cell_type": "code",
      "execution_count": 5,
      "metadata": {
        "colab": {
          "base_uri": "https://localhost:8080/",
          "height": 279
        },
        "id": "xyMBUL7awYSP",
        "outputId": "47aa4a2d-3760-40a0-e93e-924f269412b6"
      },
      "outputs": [
        {
          "output_type": "display_data",
          "data": {
            "text/plain": [
              "<Figure size 432x288 with 1 Axes>"
            ],
            "image/png": "[encoded data removed]"
          },
          "metadata": {
            "needs_background": "light"
          }
        }
      ],
      "source": [
        "# Plot data here\n",
        "nums = np.linspace(-5, 5, 1000)\n",
        "\n",
        "plt.plot(nums, list(map(sigmoid, nums)))\n",
        "plt.xlabel('X')\n",
        "plt.ylabel('g(x)')\n",
        "\n",
        "plt.show()"
      ]
    },
    {
      "cell_type": "markdown",
      "metadata": {
        "id": "KL7m4DitwYSP"
      },
      "source": [
        "### 1.4 - Cost function and gradient ##\n",
        "\n",
        "Implement the cross entropy cost function and its gradient for logistic regression. **(30 Points)**\n",
        "\n",
        "**Tasks:**\n",
        "1. Implement the \"cal_cost\" to compute the cost.\n",
        "2. Implement the \"cal_grad\" to compute the gradients.\n",
        "3. Test \"cal_cost\" and \"cal_grad\" with initial values and print out the results.\n",
        "\n",
        "**Hint:**\n",
        "1. The cross entropy cost function (J(θ)) in logistic regression is shown below. It involves two terms, including ylog(h) and (1-y)log(1-h) where h is the function of x.\n",
        "\n",
        "![](https://drive.google.com/uc?export=view&id=1xLhlPFI4wekwuA7lFm7ebRVt0XBZk3e7)\n",
        "\n",
        "2. The gradient of the cost J(θ) is a vector of the same length as θ where the $j$th element (for $j = 0, 1, . . . , n)$ is defined below. You may do a hand calculation to justify the first order derivative with the term above.\n",
        "\n",
        "![](https://drive.google.com/uc?export=view&id=1xfA0A0xyRv2L5JZIdedAmEZxZ3DwpOCF)\n",
        "\n",
        "3. When you implement J(θ), please use eps = 1e-15 to prevent possible \"divide by 0 exception\" in second term. You may think about the reason.\n",
        "4. You may consider the below templates for two functions:\n",
        "\n",
        "    def cal_cost(theta, X, y):\n",
        " \n",
        "        htheta = ...\n",
        "        term1 = ...  /* matrix_multiplication(log(htheta), y)\n",
        "        term2 = ...  /* matrix_multiplication(log(1-htheta+eps), (1-y))\n",
        "        J = - 1 / m * (term1 + term2) \n",
        "        \n",
        "        return cost\n",
        "        \n",
        "    \n",
        "    def cal_grad(theta, X, y):\n",
        "        \n",
        "        htheta = ...\n",
        "        term1 = ... /* matrix_multiplication(transpose(X), (htheta - y))  //you may think about why transpose(x)\n",
        "        grad = 1 / m * term1 \n",
        "    \n",
        "        return grad\n",
        "5. It involves matrix multiplication and you may consider the function of np.matmul or np.dot.   \n",
        "        \n",
        "6. Initialize the intercept term (constant term) with **ones** and the theta with **zeros**. Test the functions with these initial values. \\\n",
        "    **Expected outputs:**\\\n",
        "    Cost at initial theta : 0.6931471805599445\\\n",
        "    Gradient at inital theta : [-0.1        -10.91242026 -11.73652937]\n"
      ]
    },
    {
      "cell_type": "code",
      "execution_count": 6,
      "metadata": {
        "id": "dIoZ6iHhwYSR"
      },
      "outputs": [],
      "source": [
        "from numpy.core.fromnumeric import transpose\n",
        "# Implement the cost function here\n",
        "def cal_cost(theta, X, y):\n",
        "  eps = 1e-15\n",
        "\n",
        "  htheta = sigmoid(np.dot(X, theta))\n",
        "  term1 = np.log(htheta) * y\n",
        "  term2 = np.log(1-htheta+eps) * (1-y)\n",
        "  cost = (-1/len(y) * sum(term1 + term2))[0]\n",
        "\n",
        "  return cost\n",
        "\n",
        "def cal_grad(theta, X, y):\n",
        "  eps = 1e-15\n",
        "\n",
        "  htheta = sigmoid(np.dot(X, theta))\n",
        "  term1 = np.dot(transpose(X), (htheta - y))\n",
        "  grad = 1/len(y) * term1\n",
        "\n",
        "  return grad"
      ]
    },
    {
      "cell_type": "code",
      "source": [
        "# creates 1d array of labels\n",
        "y = np.reshape(np.array(df['label']), (80,1))\n",
        "theta = np.zeros(shape=(3,1))\n",
        "\n",
        "# creates col of 1, x1, and x2\n",
        "X = np.stack([np.ones(shape=(80,)), np.array(df['x1']),np.array(df['x2'])], axis=-1)\n",
        "\n",
        "# tests the functions\n",
        "print(cal_cost(theta, X, y))\n",
        "print(cal_grad(theta, X, y))"
      ],
      "metadata": {
        "colab": {
          "base_uri": "https://localhost:8080/"
        },
        "id": "1LiLMHSMUH33",
        "outputId": "177828f4-49d9-48e8-d0b9-c5f418be3af7"
      },
      "execution_count": 7,
      "outputs": [
        {
          "output_type": "stream",
          "name": "stdout",
          "text": [
            "0.6931471805599448\n",
            "[[ -0.1       ]\n",
            " [-10.91242026]\n",
            " [-11.73652937]]\n"
          ]
        }
      ]
    },
    {
      "cell_type": "markdown",
      "metadata": {
        "id": "aaRh14RpwYSR"
      },
      "source": [
        "## 1.5 Train parameters with Gradient Descent ##\n",
        "\n",
        "\n",
        "Train parameters using Gradient Descent. **(15 Points)**\n",
        "\n",
        "**Tasks:**\n",
        "1. Calculate best fit theta by Gradient Descent with learning rate of **0.001 (1e-3)** and epoch of **80K**. The initial theta from above blocks is used as initial values.\n",
        "2. Print out the best theta (the last one is considered as the best here) and its corresponding cost.\n",
        "3. **Plot the decision boundary**.\n",
        "\n",
        "**Hints:**\n",
        "1. You may take gradient descent in homework 1 as an template.\n",
        "2. Derive the boundary line from **sigmoid(theta[0]+ X1 * theta[1] + X2* theta[2])=0.5**. Think about why we get the line by setting **the activated probability to 0.5**. Also, try to calculate the final relationship between X1 and X2. When sigmoid(X) = 0.5, what is the value of x? Check the generated plot in 1.3.\n",
        "3. The validation of first 5 epochs (updated theta and cost): \\\n",
        "------Epoch 0------\\\n",
        "Theta: [0.0001     0.01091242 0.01173653]\\\n",
        "Cost: 0.6996118077359638\\\n",
        "------Epoch 1------\\\n",
        "Theta: [-0.0001129   0.00053949  0.00229352]\\\n",
        "Cost: 0.6649331468590681\\\n",
        "------Epoch 2------\\\n",
        "Theta: [-5.93604956e-05  8.33145873e-03  1.07754324e-02]\\\n",
        "Cost: 0.6679914364992459\\\n",
        "------Epoch 3------\\\n",
        "Theta: [-0.0002356   0.0004607   0.00370829]\\\n",
        "Cost: 0.6545873034874964\\\n",
        "------Epoch 4------\\\n",
        "Theta: [-0.00020363  0.00683227  0.01065138]\\\n",
        "Cost: 0.6563302142684528\n",
        "4. You may take the plots below as an exmample: \n",
        "\n",
        "![](https://drive.google.com/uc?export=view&id=1xLg9LrIF888gGXj3zRAG9iJLsyAmgPQg)\n",
        "\n",
        "5. It may take ~1 min to finish running."
      ]
    },
    {
      "cell_type": "code",
      "execution_count": 8,
      "metadata": {
        "colab": {
          "base_uri": "https://localhost:8080/"
        },
        "id": "_5d_qp6JwYSS",
        "outputId": "959de43b-cd97-422d-8187-082d5c1cb6f5"
      },
      "outputs": [
        {
          "output_type": "stream",
          "name": "stdout",
          "text": [
            "[[-3.88329777]\n",
            " [ 0.02947987]\n",
            " [ 0.03935448]]\n",
            "0.4383902436879395\n"
          ]
        }
      ],
      "source": [
        "# Gradient Descent Implementation Here\n",
        "learningRate = 1e-3\n",
        "epoch = 80000\n",
        "\n",
        "for i in range(epoch):\n",
        "  cost = cal_cost(theta, X, y)\n",
        "  grad = cal_grad(theta, X, y)\n",
        "  theta = theta - (learningRate * grad)\n",
        "\n",
        "print(theta)\n",
        "print(cost)"
      ]
    },
    {
      "cell_type": "code",
      "execution_count": 9,
      "metadata": {
        "colab": {
          "base_uri": "https://localhost:8080/",
          "height": 279
        },
        "id": "KzFgCusHwYSS",
        "outputId": "f0c00c7a-4ba2-484f-94fd-a9e152f92d3d"
      },
      "outputs": [
        {
          "output_type": "display_data",
          "data": {
            "text/plain": [
              "<Figure size 432x288 with 1 Axes>"
            ],
            "image/png": "[encoded data removed]"
          },
          "metadata": {
            "needs_background": "light"
          }
        }
      ],
      "source": [
        "# Draw Decision Boundary Here\n",
        "# let sigmoid(theta[0] + X1*theta[1] + X2*theta[2])=0.5\n",
        "# if sigmoid(n) = .5, then n = 0\n",
        "# therefore, theta[0] + X1*theta[1] + X2*theta[2] = 0\n",
        "# solve for X2 becuase X2 represents our \"y\" value for the graph\n",
        "# X2 = -(theta[0] + X1*theta[1]) / theta[2]\n",
        "def decisionBoundary(theta, X1):\n",
        "  return -(theta[0] + X1*theta[1]) / theta[2]\n",
        "\n",
        "df = pd.read_csv(\"./data_logistic.csv\", header=0)\n",
        "\n",
        "P = df.loc[df['label'] == 0]\n",
        "N = df.loc[df['label'] == 1]\n",
        "\n",
        "plt.scatter(N['x1'], N['x2'], color=\"black\", marker='+')\n",
        "plt.scatter(P['x1'], P['x2'], color=\"green\")\n",
        "\n",
        "funcInput = np.linspace(30, 100, 70)\n",
        "plt.plot(funcInput, [decisionBoundary(theta, x) for x in funcInput])\n",
        "\n",
        "plt.xlabel('x1')\n",
        "plt.ylabel('x2')\n",
        "plt.legend(['Positive', 'Negative'])\n",
        "\n",
        "plt.show()"
      ]
    },
    {
      "cell_type": "markdown",
      "metadata": {
        "id": "R9K3JJCtwYST"
      },
      "source": [
        "\n",
        "### 1.6 Evaluating Logistic Regression\n",
        "\n",
        "Evaluate the model with given data. **(15 Points)**\n",
        "\n",
        "**Tasks:**\n",
        "1. Calculate the training accuracy and **PRINT IT OUT**.\n",
        "2. Evaluate the predicted probability of the learnt model with x1 = 56 and x2 = 32 and **PRINT IT OUT**.\n",
        "\n",
        "\n",
        "**Hints:**  \n",
        "1. Positive(prediction>0.5) and negative(prediction<=0.5). \n",
        "2. The prediction results are based on acceptance probability. Given the two exam scores, we expected the model yields either high probability of \"fail\" or low probability of \"pass\".\n",
        "3. Training accuracy should be around **85%**."
      ]
    },
    {
      "cell_type": "code",
      "execution_count": 10,
      "metadata": {
        "id": "tPt3FS4qwYST",
        "colab": {
          "base_uri": "https://localhost:8080/"
        },
        "outputId": "7b9726f6-ff39-42c0-a7fc-54b3fbe1e881"
      },
      "outputs": [
        {
          "output_type": "stream",
          "name": "stdout",
          "text": [
            "Predicted probability of the learnt model with x1 = 56 and x2 = 32: [0.27426662]\n",
            "Training accuracy: 0.85\n"
          ]
        }
      ],
      "source": [
        "# Evaluate the model\n",
        "# as given above let sigmoid(theta[0]+ X1 * theta[1] + X2* theta[2]) = probability\n",
        "\n",
        "def probability(theta, X1, X2):\n",
        "  return sigmoid(theta[0]+ X1 * theta[1] + X2* theta[2])\n",
        "\n",
        "print(\"Predicted probability of the learnt model with x1 = 56 and x2 = 32:\", probability(theta, 56, 32))\n",
        "\n",
        "def accuracy(theta, df):\n",
        "  trueHit = 0\n",
        "\n",
        "\n",
        "  for index, row in df.iterrows():\n",
        "    if row['label'] == np.round(probability(theta, row['x1'], row['x2'])):\n",
        "\n",
        "     trueHit = trueHit + 1\n",
        "\n",
        "  return trueHit/80\n",
        "print(\"Training accuracy:\", accuracy(theta, df))\n",
        "\n"
      ]
    }
  ],
  "metadata": {
    "coursera": {
      "course_slug": "neural-networks-deep-learning",
      "graded_item_id": "XaIWT",
      "launcher_item_id": "zAgPl"
    },
    "kernelspec": {
      "display_name": "Python 3",
      "language": "python",
      "name": "python3"
    },
    "language_info": {
      "codemirror_mode": {
        "name": "ipython",
        "version": 3
      },
      "file_extension": ".py",
      "mimetype": "text/x-python",
      "name": "python",
      "nbconvert_exporter": "python",
      "pygments_lexer": "ipython3",
      "version": "3.8.5"
    },
    "colab": {
      "provenance": [],
      "include_colab_link": true
    }
  },
  "nbformat": 4,
  "nbformat_minor": 0
}